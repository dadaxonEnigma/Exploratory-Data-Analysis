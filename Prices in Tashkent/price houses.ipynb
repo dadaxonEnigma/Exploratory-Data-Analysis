{
 "cells": [
  {
   "cell_type": "markdown",
   "id": "8a2db66f-54d0-416c-a769-2145e39a14b4",
   "metadata": {},
   "source": [
    "# Real estate prices in Tashkent, Uzbekistan\n",
    "\n",
    "Context\n",
    "The dataset containt the prices for real estate in Tashkent, Uzbekistan. Data was scraped from uybor.uz, real-estate advertisement website. Data was scraped back in 2019.\n",
    "\n",
    "1. The Dataset has all values(no missing values)\n",
    "2. Dataset contains 12 districts\n",
    "3. "
   ]
  },
  {
   "cell_type": "markdown",
   "id": "3ac87abd-fcb0-4f02-8949-0f5adef980e4",
   "metadata": {},
   "source": [
    "## Import libraries and Donwload the data"
   ]
  },
  {
   "cell_type": "code",
   "execution_count": 7,
   "id": "9262c395-de01-4aa6-8c80-d7fe577289d6",
   "metadata": {},
   "outputs": [],
   "source": [
    "import pandas as pd\n",
    "import matplotlib.pyplot as plt\n",
    "import seaborn as sns"
   ]
  },
  {
   "cell_type": "code",
   "execution_count": 15,
   "id": "55fa45f5-7568-4a58-8403-2fa2e04416c6",
   "metadata": {},
   "outputs": [
    {
     "data": {
      "text/html": [
       "<div>\n",
       "<style scoped>\n",
       "    .dataframe tbody tr th:only-of-type {\n",
       "        vertical-align: middle;\n",
       "    }\n",
       "\n",
       "    .dataframe tbody tr th {\n",
       "        vertical-align: top;\n",
       "    }\n",
       "\n",
       "    .dataframe thead th {\n",
       "        text-align: right;\n",
       "    }\n",
       "</style>\n",
       "<table border=\"1\" class=\"dataframe\">\n",
       "  <thead>\n",
       "    <tr style=\"text-align: right;\">\n",
       "      <th></th>\n",
       "      <th>address</th>\n",
       "      <th>district</th>\n",
       "      <th>rooms</th>\n",
       "      <th>size</th>\n",
       "      <th>level</th>\n",
       "      <th>max_levels</th>\n",
       "      <th>price</th>\n",
       "      <th>lat</th>\n",
       "      <th>lng</th>\n",
       "    </tr>\n",
       "  </thead>\n",
       "  <tbody>\n",
       "    <tr>\n",
       "      <th>0</th>\n",
       "      <td>город Ташкент, Yunusobod район, Юнусабад 8-й к...</td>\n",
       "      <td>Yunusobod</td>\n",
       "      <td>3</td>\n",
       "      <td>57.0</td>\n",
       "      <td>4</td>\n",
       "      <td>4</td>\n",
       "      <td>52000</td>\n",
       "      <td>41.371471</td>\n",
       "      <td>69.281049</td>\n",
       "    </tr>\n",
       "    <tr>\n",
       "      <th>1</th>\n",
       "      <td>город Ташкент, Yakkasaroy район, 1-й тупик Шот...</td>\n",
       "      <td>Yakkasaroy</td>\n",
       "      <td>2</td>\n",
       "      <td>52.0</td>\n",
       "      <td>4</td>\n",
       "      <td>5</td>\n",
       "      <td>56000</td>\n",
       "      <td>41.291115</td>\n",
       "      <td>69.261104</td>\n",
       "    </tr>\n",
       "    <tr>\n",
       "      <th>2</th>\n",
       "      <td>город Ташкент, Chilonzor район, Чиланзар 2-й к...</td>\n",
       "      <td>Chilonzor</td>\n",
       "      <td>2</td>\n",
       "      <td>42.0</td>\n",
       "      <td>4</td>\n",
       "      <td>4</td>\n",
       "      <td>37000</td>\n",
       "      <td>41.280784</td>\n",
       "      <td>69.223683</td>\n",
       "    </tr>\n",
       "    <tr>\n",
       "      <th>3</th>\n",
       "      <td>город Ташкент, Chilonzor район, Чиланзар 9-й к...</td>\n",
       "      <td>Chilonzor</td>\n",
       "      <td>3</td>\n",
       "      <td>65.0</td>\n",
       "      <td>1</td>\n",
       "      <td>4</td>\n",
       "      <td>49500</td>\n",
       "      <td>41.290163</td>\n",
       "      <td>69.196862</td>\n",
       "    </tr>\n",
       "    <tr>\n",
       "      <th>4</th>\n",
       "      <td>город Ташкент, Chilonzor район, площадь Актепа</td>\n",
       "      <td>Chilonzor</td>\n",
       "      <td>3</td>\n",
       "      <td>70.0</td>\n",
       "      <td>3</td>\n",
       "      <td>5</td>\n",
       "      <td>55000</td>\n",
       "      <td>41.300156</td>\n",
       "      <td>69.210831</td>\n",
       "    </tr>\n",
       "  </tbody>\n",
       "</table>\n",
       "</div>"
      ],
      "text/plain": [
       "                                             address    district  rooms  size  \\\n",
       "0  город Ташкент, Yunusobod район, Юнусабад 8-й к...   Yunusobod      3  57.0   \n",
       "1  город Ташкент, Yakkasaroy район, 1-й тупик Шот...  Yakkasaroy      2  52.0   \n",
       "2  город Ташкент, Chilonzor район, Чиланзар 2-й к...   Chilonzor      2  42.0   \n",
       "3  город Ташкент, Chilonzor район, Чиланзар 9-й к...   Chilonzor      3  65.0   \n",
       "4     город Ташкент, Chilonzor район, площадь Актепа   Chilonzor      3  70.0   \n",
       "\n",
       "   level  max_levels  price        lat        lng  \n",
       "0      4           4  52000  41.371471  69.281049  \n",
       "1      4           5  56000  41.291115  69.261104  \n",
       "2      4           4  37000  41.280784  69.223683  \n",
       "3      1           4  49500  41.290163  69.196862  \n",
       "4      3           5  55000  41.300156  69.210831  "
      ]
     },
     "execution_count": 15,
     "metadata": {},
     "output_type": "execute_result"
    }
   ],
   "source": [
    "df = pd.read_excel('uybor.xlsx')\n",
    "df.head()"
   ]
  },
  {
   "cell_type": "markdown",
   "id": "812a8ed1-2236-45a1-bef9-d3dba1a1523c",
   "metadata": {},
   "source": [
    "## Data preparation and Cleaning\n",
    "\n",
    "1. Discusing about data with (describe())\n",
    "2. Find and fix missing values in the data\n",
    "3. Select the columns which we will work "
   ]
  },
  {
   "cell_type": "code",
   "execution_count": 25,
   "id": "33575881-10aa-46a3-9390-18a51f3786a4",
   "metadata": {},
   "outputs": [
    {
     "data": {
      "text/html": [
       "<div>\n",
       "<style scoped>\n",
       "    .dataframe tbody tr th:only-of-type {\n",
       "        vertical-align: middle;\n",
       "    }\n",
       "\n",
       "    .dataframe tbody tr th {\n",
       "        vertical-align: top;\n",
       "    }\n",
       "\n",
       "    .dataframe thead th {\n",
       "        text-align: right;\n",
       "    }\n",
       "</style>\n",
       "<table border=\"1\" class=\"dataframe\">\n",
       "  <thead>\n",
       "    <tr style=\"text-align: right;\">\n",
       "      <th></th>\n",
       "      <th>rooms</th>\n",
       "      <th>size</th>\n",
       "      <th>level</th>\n",
       "      <th>max_levels</th>\n",
       "      <th>price</th>\n",
       "      <th>lat</th>\n",
       "      <th>lng</th>\n",
       "    </tr>\n",
       "  </thead>\n",
       "  <tbody>\n",
       "    <tr>\n",
       "      <th>count</th>\n",
       "      <td>7421.000000</td>\n",
       "      <td>7421.000000</td>\n",
       "      <td>7421.000000</td>\n",
       "      <td>7421.000000</td>\n",
       "      <td>7421.000000</td>\n",
       "      <td>7421.000000</td>\n",
       "      <td>7421.000000</td>\n",
       "    </tr>\n",
       "    <tr>\n",
       "      <th>mean</th>\n",
       "      <td>2.619728</td>\n",
       "      <td>73.150726</td>\n",
       "      <td>3.699367</td>\n",
       "      <td>6.031397</td>\n",
       "      <td>59117.618919</td>\n",
       "      <td>41.303620</td>\n",
       "      <td>69.256615</td>\n",
       "    </tr>\n",
       "    <tr>\n",
       "      <th>std</th>\n",
       "      <td>1.076887</td>\n",
       "      <td>36.999670</td>\n",
       "      <td>2.239028</td>\n",
       "      <td>2.607673</td>\n",
       "      <td>46701.090308</td>\n",
       "      <td>0.033771</td>\n",
       "      <td>0.059061</td>\n",
       "    </tr>\n",
       "    <tr>\n",
       "      <th>min</th>\n",
       "      <td>1.000000</td>\n",
       "      <td>14.000000</td>\n",
       "      <td>1.000000</td>\n",
       "      <td>1.000000</td>\n",
       "      <td>10500.000000</td>\n",
       "      <td>41.186375</td>\n",
       "      <td>69.148915</td>\n",
       "    </tr>\n",
       "    <tr>\n",
       "      <th>25%</th>\n",
       "      <td>2.000000</td>\n",
       "      <td>50.000000</td>\n",
       "      <td>2.000000</td>\n",
       "      <td>4.000000</td>\n",
       "      <td>35000.000000</td>\n",
       "      <td>41.281265</td>\n",
       "      <td>69.205802</td>\n",
       "    </tr>\n",
       "    <tr>\n",
       "      <th>50%</th>\n",
       "      <td>3.000000</td>\n",
       "      <td>65.000000</td>\n",
       "      <td>3.000000</td>\n",
       "      <td>5.000000</td>\n",
       "      <td>46500.000000</td>\n",
       "      <td>41.296388</td>\n",
       "      <td>69.260189</td>\n",
       "    </tr>\n",
       "    <tr>\n",
       "      <th>75%</th>\n",
       "      <td>3.000000</td>\n",
       "      <td>85.000000</td>\n",
       "      <td>5.000000</td>\n",
       "      <td>9.000000</td>\n",
       "      <td>66847.000000</td>\n",
       "      <td>41.324956</td>\n",
       "      <td>69.293713</td>\n",
       "    </tr>\n",
       "    <tr>\n",
       "      <th>max</th>\n",
       "      <td>10.000000</td>\n",
       "      <td>456.000000</td>\n",
       "      <td>19.000000</td>\n",
       "      <td>25.000000</td>\n",
       "      <td>800000.000000</td>\n",
       "      <td>41.424522</td>\n",
       "      <td>69.588687</td>\n",
       "    </tr>\n",
       "  </tbody>\n",
       "</table>\n",
       "</div>"
      ],
      "text/plain": [
       "             rooms         size        level   max_levels          price  \\\n",
       "count  7421.000000  7421.000000  7421.000000  7421.000000    7421.000000   \n",
       "mean      2.619728    73.150726     3.699367     6.031397   59117.618919   \n",
       "std       1.076887    36.999670     2.239028     2.607673   46701.090308   \n",
       "min       1.000000    14.000000     1.000000     1.000000   10500.000000   \n",
       "25%       2.000000    50.000000     2.000000     4.000000   35000.000000   \n",
       "50%       3.000000    65.000000     3.000000     5.000000   46500.000000   \n",
       "75%       3.000000    85.000000     5.000000     9.000000   66847.000000   \n",
       "max      10.000000   456.000000    19.000000    25.000000  800000.000000   \n",
       "\n",
       "               lat          lng  \n",
       "count  7421.000000  7421.000000  \n",
       "mean     41.303620    69.256615  \n",
       "std       0.033771     0.059061  \n",
       "min      41.186375    69.148915  \n",
       "25%      41.281265    69.205802  \n",
       "50%      41.296388    69.260189  \n",
       "75%      41.324956    69.293713  \n",
       "max      41.424522    69.588687  "
      ]
     },
     "execution_count": 25,
     "metadata": {},
     "output_type": "execute_result"
    }
   ],
   "source": [
    "df.describe()"
   ]
  },
  {
   "cell_type": "code",
   "execution_count": 31,
   "id": "ff6b2516-17aa-4585-9db9-c612677000b1",
   "metadata": {},
   "outputs": [
    {
     "data": {
      "text/plain": [
       "address       0\n",
       "district      0\n",
       "rooms         0\n",
       "size          0\n",
       "level         0\n",
       "max_levels    0\n",
       "price         0\n",
       "lat           0\n",
       "lng           0\n",
       "dtype: int64"
      ]
     },
     "execution_count": 31,
     "metadata": {},
     "output_type": "execute_result"
    }
   ],
   "source": [
    "df.isna().sum()"
   ]
  },
  {
   "cell_type": "code",
   "execution_count": 36,
   "id": "c35df05c-1dd6-4aca-aede-39ebb7992a44",
   "metadata": {},
   "outputs": [
    {
     "data": {
      "text/plain": [
       "Index(['address', 'district', 'rooms', 'size', 'level', 'max_levels', 'price',\n",
       "       'lat', 'lng'],\n",
       "      dtype='object')"
      ]
     },
     "execution_count": 36,
     "metadata": {},
     "output_type": "execute_result"
    }
   ],
   "source": [
    "df.columns"
   ]
  },
  {
   "cell_type": "code",
   "execution_count": 105,
   "id": "f22331f9-c7dd-4343-b4ff-fdcd8b6e2504",
   "metadata": {},
   "outputs": [],
   "source": [
    "rooms = df['rooms'].unique()"
   ]
  },
  {
   "cell_type": "code",
   "execution_count": 101,
   "id": "d7b4a9db-cbd8-49c8-ad0d-26fe6eb20c21",
   "metadata": {},
   "outputs": [],
   "source": [
    "districts = df['district'].unique()"
   ]
  },
  {
   "cell_type": "code",
   "execution_count": 103,
   "id": "4646ce35-864d-48ef-8c48-0788325a0930",
   "metadata": {},
   "outputs": [],
   "source": [
    "price_of_houses = df.price.unique()"
   ]
  },
  {
   "cell_type": "markdown",
   "id": "33080b8c-c132-4a5d-8df3-42fea58cd58b",
   "metadata": {},
   "source": [
    "## Data Visualization"
   ]
  },
  {
   "cell_type": "code",
   "execution_count": 99,
   "id": "69e21be0-a989-4efe-baf1-f20117372d3c",
   "metadata": {},
   "outputs": [
    {
     "data": {
      "text/plain": [
       "<Axes: ylabel='Count'>"
      ]
     },
     "execution_count": 99,
     "metadata": {},
     "output_type": "execute_result"
    },
    {
     "data": {
      "image/png": "[encoded data removed]",
      "text/plain": [
       "<Figure size 640x480 with 1 Axes>"
      ]
     },
     "metadata": {},
     "output_type": "display_data"
    }
   ],
   "source": [
    "sns.histplot(price_of_houses)"
   ]
  },
  {
   "cell_type": "code",
   "execution_count": null,
   "id": "d1a0d7ae-9e99-46e8-8551-5f7f4d9aa72f",
   "metadata": {},
   "outputs": [],
   "source": []
  },
  {
   "cell_type": "markdown",
   "id": "7fe62e81-321a-4e68-8e42-9a49cf8af2fb",
   "metadata": {},
   "source": [
    "## Ask and Answer Questions\n",
    "\n",
    "1. The largest house size ?\n",
    "2. The lowest house size ?\n",
    "3. Which district contains the highest expansive haouses ?"
   ]
  }
 ],
 "metadata": {
  "kernelspec": {
   "display_name": "Python 3 (ipykernel)",
   "language": "python",
   "name": "python3"
  },
  "language_info": {
   "codemirror_mode": {
    "name": "ipython",
    "version": 3
   },
   "file_extension": ".py",
   "mimetype": "text/x-python",
   "name": "python",
   "nbconvert_exporter": "python",
   "pygments_lexer": "ipython3",
   "version": "3.12.4"
  }
 },
 "nbformat": 4,
 "nbformat_minor": 5
}
